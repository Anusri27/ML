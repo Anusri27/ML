{
 "cells": [
  {
   "cell_type": "code",
   "execution_count": 1,
   "metadata": {},
   "outputs": [],
   "source": [
    "import numpy as np\n",
    "\n",
    "import pandas as pd \n",
    "\n",
    "import matplotlib.pyplot as plt"
   ]
  },
  {
   "cell_type": "code",
   "execution_count": 6,
   "metadata": {},
   "outputs": [
    {
     "data": {
      "text/plain": [
       "[<matplotlib.lines.Line2D at 0x149a830>]"
      ]
     },
     "execution_count": 6,
     "metadata": {},
     "output_type": "execute_result"
    },
    {
     "data": {
      "image/png": "[encoded data removed]",
      "text/plain": [
       "<Figure size 432x288 with 1 Axes>"
      ]
     },
     "metadata": {
      "needs_background": "light"
     },
     "output_type": "display_data"
    }
   ],
   "source": [
    "coln=['X', 'Y']\n",
    "\n",
    "graph = pd.read_csv(r\"C:\\Users\\dustbin\\Downloads\\graph.csv\", names = coln)\n",
    "\n",
    "xx = graph.X.tolist() \n",
    "yy = graph.Y.tolist() \n",
    "plt.plot(xx, yy, 'ro')\n",
    "x_mean = np.mean(xx)\n",
    "y_mean = np.mean(yy)\n",
    "plt.plot(x_mean, y_mean, 'g^')\n",
    "s_nume = 0\n",
    "s_deno = 0\n",
    "length = len(xx)\n",
    "for i in range(length):\n",
    "    s_nume = s_nume + ((xx[i]- x_mean)* (yy[i] - y_mean))\n",
    "    s_deno = s_deno + ((xx[i]- x_mean)**2)\n",
    "\n",
    "m_val = s_nume / s_deno\n",
    "\n",
    "c_val =y_mean - m_val * x_mean  \n",
    "x_reg = []\n",
    "y_reg = []\n",
    "\n",
    "for j in range(length):\n",
    "\n",
    "    x_reg.append(j) \n",
    "\n",
    "    y_reg.append(x_reg[j] * m_val + c_val) \n",
    "\n",
    "plt.plot(x_reg, y_reg, 'r*')\n",
    "\n",
    "plt.plot(x_reg, y_reg)\n",
    "\n"
   ]
  },
  {
   "cell_type": "code",
   "execution_count": null,
   "metadata": {},
   "outputs": [],
   "source": []
  }
 ],
 "metadata": {
  "kernelspec": {
   "display_name": "Python 3",
   "language": "python",
   "name": "python3"
  },
  "language_info": {
   "codemirror_mode": {
    "name": "ipython",
    "version": 3
   },
   "file_extension": ".py",
   "mimetype": "text/x-python",
   "name": "python",
   "nbconvert_exporter": "python",
   "pygments_lexer": "ipython3",
   "version": "3.7.3"
  }
 },
 "nbformat": 4,
 "nbformat_minor": 2
}
